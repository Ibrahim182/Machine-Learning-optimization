{
  "cells": [
    {
      "cell_type": "code",
      "execution_count": 1,
      "metadata": {
        "id": "3qW0ho-duYbu"
      },
      "outputs": [],
      "source": [
        "import numpy as np"
      ]
    },
    {
      "cell_type": "markdown",
      "metadata": {
        "id": "yiF2Qc_kuYb0"
      },
      "source": [
        "# Explanation"
      ]
    },
    {
      "cell_type": "markdown",
      "metadata": {
        "id": "NtLVLbz2uYb1"
      },
      "source": [
        "## If I have this equation: $$ y = (x - 1)^2 $$\n",
        "### The minimum value of x that makes y get the smallest value is 1\n",
        "#### We have three way to get x:\n",
        "1. Drivative and make it equal 0 : $$ 2(x - 1) = 0, 2x = 2, x = 1 $$\n",
        "2. Draw the equation and from it will know the value of x : <img src='img\\1.jpg'>\n",
        "3. Gradient Descent : $$ x_{new} := x_{old} - \\alpha \\frac{dy}{dx} $$"
      ]
    },
    {
      "cell_type": "markdown",
      "metadata": {
        "id": "b2uKbzwruYb2"
      },
      "source": [
        "# Solve this equation"
      ]
    },
    {
      "cell_type": "code",
      "execution_count": 2,
      "metadata": {
        "id": "XZzm4BJfuYb3"
      },
      "outputs": [],
      "source": [
        "def gradient_descent(X_old, alpha, iterates):\n",
        "    # number of iteration\n",
        "    for i in range(iterates):\n",
        "        # the equation\n",
        "        X_new = X_old - alpha * (2*X_old - 2)\n",
        "        # put the result in x old to repeat till finish iteration\n",
        "        X_old = X_new\n",
        "    # return minimum x\n",
        "    return X_new"
      ]
    },
    {
      "cell_type": "code",
      "execution_count": 3,
      "metadata": {
        "colab": {
          "base_uri": "https://localhost:8080/"
        },
        "id": "UvahexF-uYb4",
        "outputId": "0c581cbf-a4a9-4c3f-b5eb-16a7aa42b295"
      },
      "outputs": [
        {
          "data": {
            "text/plain": [
              "1.0000000000000555"
            ]
          },
          "execution_count": 3,
          "metadata": {},
          "output_type": "execute_result"
        }
      ],
      "source": [
        "gradient_descent(10, 0.001, 100000)"
      ]
    },
    {
      "cell_type": "markdown",
      "metadata": {
        "id": "u8WerlFTuYb6"
      },
      "source": [
        "# one_variable"
      ]
    },
    {
      "cell_type": "markdown",
      "metadata": {
        "id": "NCaswlVVuYb7"
      },
      "source": [
        "## In preivous example we use dy/dx in gradient.\n",
        "## But in data what's the dy/dx  ? "
      ]
    },
    {
      "cell_type": "markdown",
      "metadata": {},
      "source": [
        "### linear equation: $$ y = \\sum_{i=1}^m w_i x_i + b $$\n",
        "### Cost function: $$ C = \\frac{1}{2m} \\sum_{i=1}^m (target - y)^2 $$\n",
        "### From cost function I need to change values of weights and bais $$  \\frac{\\partial C}{\\partial w_i},\\frac{\\partial C}{\\partial b} $$\n",
        "### we need to use chain rules : $$  \\frac{\\partial C}{\\partial w_i} = \\frac{\\partial C}{\\partial y} * \\frac{\\partial y}{\\partial w_i} $$\n",
        "### $$ \\frac{\\partial C}{\\partial y} = \\frac{1}{m} \\sum_{i=1}^m (target - y) $$ $$ \\frac{\\partial y}{\\partial w_i} = x $$\n",
        "### then it will be: $$  \\frac{\\partial C}{\\partial w_i} = \\frac{1}{m} * \\sum(target - y) * x $$\n",
        "### for bais too: $$  \\frac{\\partial C}{\\partial b} = \\frac{\\partial C}{\\partial y} * \\frac{\\partial y}{\\partial b} $$\n",
        "### $$ \\frac{\\partial y}{\\partial b} = 1 $$\n",
        "### then it will be: $$  \\frac{\\partial C}{\\partial b} = \\frac{1}{m} * \\sum(target - y) $$\n"
      ]
    },
    {
      "cell_type": "code",
      "execution_count": 4,
      "metadata": {
        "id": "SEBcSCAJuYb8"
      },
      "outputs": [],
      "source": [
        "x = np.array([1, 2, 3, 4, 5])\n",
        "y = np.array([2, 4, 6, 8, 10])"
      ]
    },
    {
      "cell_type": "code",
      "execution_count": 5,
      "metadata": {
        "id": "ggSG1G_OuYb8"
      },
      "outputs": [],
      "source": [
        "def gradient_descent(W_old, b_old, alpha, iterates):\n",
        "    # number of iteration\n",
        "    for i in range(iterates):\n",
        "        # pred\n",
        "        predict = x * W_old + b_old\n",
        "        # the equation\n",
        "        W_new = W_old - alpha * ((np.sum(predict - y))/x.shape[0])\n",
        "        # put the result in x old to repeat till finish iteration\n",
        "        W_old = W_new\n",
        "\n",
        "        b_new = b_old - alpha * ((np.sum(predict - y))/x.shape[0])\n",
        "        # put the result in b old to repeat till finish iteration\n",
        "        b_old=b_new\n",
        "    # return minimum W and b\n",
        "    return W_new, b_new\n"
      ]
    },
    {
      "cell_type": "code",
      "execution_count": 6,
      "metadata": {
        "id": "c9lFvJ9FuYb9"
      },
      "outputs": [],
      "source": [
        "w, b = gradient_descent(1, 1, 0.001, 10000000)"
      ]
    },
    {
      "cell_type": "code",
      "execution_count": 7,
      "metadata": {
        "colab": {
          "base_uri": "https://localhost:8080/"
        },
        "id": "MZ1psV5Tzee-",
        "outputId": "791a4afe-fd30-45f9-be51-1075f59ecba8"
      },
      "outputs": [
        {
          "data": {
            "text/plain": [
              "(1.4999999999999725, 1.4999999999999725)"
            ]
          },
          "execution_count": 7,
          "metadata": {},
          "output_type": "execute_result"
        }
      ],
      "source": [
        "w, b"
      ]
    },
    {
      "cell_type": "code",
      "execution_count": 8,
      "metadata": {
        "colab": {
          "base_uri": "https://localhost:8080/"
        },
        "id": "L6eC6F4uuYb9",
        "outputId": "a620f628-19aa-4218-b14d-43956fdbe5ea"
      },
      "outputs": [
        {
          "data": {
            "text/plain": [
              "array([3. , 4.5, 6. , 7.5, 9. ])"
            ]
          },
          "execution_count": 8,
          "metadata": {},
          "output_type": "execute_result"
        }
      ],
      "source": [
        "prediction = x * w + b\n",
        "prediction"
      ]
    },
    {
      "cell_type": "code",
      "execution_count": 9,
      "metadata": {
        "colab": {
          "base_uri": "https://localhost:8080/"
        },
        "id": "FZNtijL-uYb-",
        "outputId": "85dbaa95-672e-4405-f990-c9bdfa29e5e0"
      },
      "outputs": [
        {
          "data": {
            "text/plain": [
              "array([ 2,  4,  6,  8, 10])"
            ]
          },
          "execution_count": 9,
          "metadata": {},
          "output_type": "execute_result"
        }
      ],
      "source": [
        "y"
      ]
    },
    {
      "cell_type": "markdown",
      "metadata": {},
      "source": [
        "# Mean Absolute Error"
      ]
    },
    {
      "cell_type": "code",
      "execution_count": 10,
      "metadata": {},
      "outputs": [],
      "source": [
        "def mae_metric(actual, predicted):\n",
        "\tsum_error = 0.0\n",
        "\tfor i in range(len(actual)):\n",
        "\t\tsum_error += abs(predicted[i] - actual[i])\n",
        "\treturn sum_error / float(len(actual))"
      ]
    },
    {
      "cell_type": "code",
      "execution_count": 11,
      "metadata": {},
      "outputs": [
        {
          "data": {
            "text/plain": [
              "0.600000000000055"
            ]
          },
          "execution_count": 11,
          "metadata": {},
          "output_type": "execute_result"
        }
      ],
      "source": [
        "mae_metric(y,prediction)"
      ]
    },
    {
      "cell_type": "code",
      "execution_count": 16,
      "metadata": {},
      "outputs": [
        {
          "data": {
            "text/plain": [
              "0.600000000000055"
            ]
          },
          "execution_count": 16,
          "metadata": {},
          "output_type": "execute_result"
        }
      ],
      "source": [
        "# with one line same as function above\n",
        "np.sum(abs(y- prediction)) / len(y)"
      ]
    },
    {
      "cell_type": "markdown",
      "metadata": {
        "id": "ZoFYIxtRuYb-"
      },
      "source": [
        "# Multivariable"
      ]
    },
    {
      "cell_type": "markdown",
      "metadata": {},
      "source": [
        "we will add one's in features x for bais"
      ]
    },
    {
      "cell_type": "code",
      "execution_count": 5,
      "metadata": {
        "id": "HOsZ7DU5uYb-"
      },
      "outputs": [],
      "source": [
        "x = np.matrix([[1, 1, 2],\n",
        "               [1, 2, 4],\n",
        "               [1, 3, 6],\n",
        "               [1, 4, 8],\n",
        "               [1, 5,  10]])\n",
        "\n",
        "y = np.matrix([[2],\n",
        "               [3],\n",
        "               [4],\n",
        "               [5],\n",
        "               [6]])\n"
      ]
    },
    {
      "cell_type": "code",
      "execution_count": 136,
      "metadata": {
        "colab": {
          "base_uri": "https://localhost:8080/"
        },
        "id": "gXdrodD6uYb_",
        "outputId": "884ad4b1-c2e9-4a1b-9edd-ca889bc08deb"
      },
      "outputs": [
        {
          "data": {
            "text/plain": [
              "(5, 3)"
            ]
          },
          "execution_count": 136,
          "metadata": {},
          "output_type": "execute_result"
        }
      ],
      "source": [
        "x.shape"
      ]
    },
    {
      "cell_type": "code",
      "execution_count": 138,
      "metadata": {
        "id": "iVncXGjUuYb_"
      },
      "outputs": [],
      "source": [
        "def gradient_descent(Ws_old, alpha, iterates):\n",
        "    # assign weights new to contain zero's\n",
        "    Ws_new = np.matrix(np.zeros(Ws_old.shape))\n",
        "    # number of thetas\n",
        "    parameter = int(Ws_old.ravel().shape[1])\n",
        "\n",
        "    # loop in range number of iterates\n",
        "    for i in range(iterates):\n",
        "        # prediction\n",
        "        predict = x * Ws_old.reshape(-1, 1)\n",
        "\n",
        "        # loop in range number of thetas\n",
        "        for j in range(parameter):\n",
        "\n",
        "            # new theta = old theta - alph * (sum of predict - real values)/number of rows\n",
        "            Ws_new[0, j] = Ws_old[0, j] - alpha * ((np.sum(predict - y))/x.shape[0])\n",
        "\n",
        "        # put old thetas = new thetas\n",
        "        Ws_old = Ws_new\n",
        "    # return last values of weights\n",
        "    return Ws_old\n"
      ]
    },
    {
      "cell_type": "code",
      "execution_count": 139,
      "metadata": {
        "id": "04TKliDquYcA"
      },
      "outputs": [],
      "source": [
        "# first theta is bais\n",
        "thetas = np.matrix([0.5, 0.5, 0.5])\n",
        "# call function\n",
        "weights = gradient_descent(thetas, 0.001, 1000000)"
      ]
    },
    {
      "cell_type": "code",
      "execution_count": 140,
      "metadata": {
        "colab": {
          "base_uri": "https://localhost:8080/"
        },
        "id": "eqWtTXXYuYcA",
        "outputId": "da58e912-8b42-41fe-8798-8e267a3bf2c1"
      },
      "outputs": [
        {
          "data": {
            "text/plain": [
              "matrix([[0.4, 0.4, 0.4]])"
            ]
          },
          "execution_count": 140,
          "metadata": {},
          "output_type": "execute_result"
        }
      ],
      "source": [
        "# see the weights\n",
        "weights"
      ]
    },
    {
      "cell_type": "code",
      "execution_count": 141,
      "metadata": {
        "colab": {
          "base_uri": "https://localhost:8080/"
        },
        "id": "wrH3w-2quYcB",
        "outputId": "f6390acb-7010-4c9a-db03-0c6f57ee5977"
      },
      "outputs": [
        {
          "data": {
            "text/plain": [
              "matrix([[1.6],\n",
              "        [2.8],\n",
              "        [4. ],\n",
              "        [5.2],\n",
              "        [6.4]])"
            ]
          },
          "execution_count": 141,
          "metadata": {},
          "output_type": "execute_result"
        }
      ],
      "source": [
        "# predict values\n",
        "prediction = x * weights.reshape(-1, 1)\n",
        "prediction"
      ]
    },
    {
      "cell_type": "code",
      "execution_count": 142,
      "metadata": {
        "colab": {
          "base_uri": "https://localhost:8080/"
        },
        "id": "Aqvj3IPWuYcB",
        "outputId": "165db17b-7e59-4029-bde8-105fc32cf368"
      },
      "outputs": [
        {
          "data": {
            "text/plain": [
              "matrix([[2],\n",
              "        [3],\n",
              "        [4],\n",
              "        [5],\n",
              "        [6]])"
            ]
          },
          "execution_count": 142,
          "metadata": {},
          "output_type": "execute_result"
        }
      ],
      "source": [
        "y"
      ]
    },
    {
      "cell_type": "code",
      "execution_count": null,
      "metadata": {
        "id": "ifboHp_luYcB"
      },
      "outputs": [],
      "source": []
    }
  ],
  "metadata": {
    "accelerator": "TPU",
    "colab": {
      "name": "main.ipynb",
      "provenance": []
    },
    "interpreter": {
      "hash": "4ac99a89178b347d2ddb51d1067ae4321247bd0ad96f9f2868f86d66c397a5fc"
    },
    "kernelspec": {
      "display_name": "Python 3.10.2 64-bit",
      "language": "python",
      "name": "python3"
    },
    "language_info": {
      "codemirror_mode": {
        "name": "ipython",
        "version": 3
      },
      "file_extension": ".py",
      "mimetype": "text/x-python",
      "name": "python",
      "nbconvert_exporter": "python",
      "pygments_lexer": "ipython3",
      "version": "3.10.2"
    },
    "orig_nbformat": 4
  },
  "nbformat": 4,
  "nbformat_minor": 0
}
