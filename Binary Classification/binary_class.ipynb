{
  "cells": [
    {
      "cell_type": "code",
      "execution_count": 2,
      "metadata": {
        "id": "RGtPb0MYSIFO"
      },
      "outputs": [],
      "source": [
        "import numpy as np"
      ]
    },
    {
      "cell_type": "markdown",
      "metadata": {
        "id": "bzsxJx9SSIFU"
      },
      "source": [
        "# Explanation"
      ]
    },
    {
      "cell_type": "markdown",
      "metadata": {
        "id": "0JWocShNSIFV"
      },
      "source": [
        "### We need the output in this case to be 0 or 1 only , so we will use sigmoid function $$ sigmoid = \\frac{1}{1+e^{-value}} $$"
      ]
    },
    {
      "cell_type": "markdown",
      "metadata": {
        "id": "nNhYp8AwSIFW"
      },
      "source": [
        "## But what is the steps to update my weights and bais ?"
      ]
    },
    {
      "cell_type": "markdown",
      "metadata": {
        "id": "NfzZtEhlSIFW"
      },
      "source": [
        "### linear equation: $$ z = \\sum_{i=1}^m w_i x_i + b $$\n",
        "### transform to sigmoid to get the value from 0 to 1: $$ y = \\frac{1}{1+e^{-z}} $$\n",
        "### Cost function (called binary cross-entropy): $$ C = -\\sum_{i=1} target *\\log y + (1 - target)* \\log(1 - y) $$\n",
        "### we need to use chain rules : $$ \\frac{\\partial C}{\\partial w} = \\frac{\\partial z}{\\partial w} * \\frac{\\partial y}{\\partial z} * \\frac{\\partial c}{\\partial y} $$\n",
        "### <h2 style=\"color:red;\">$$\\frac{\\partial z}{\\partial w_i} = x_i $$</h2> \n",
        "### $$ \\frac{\\partial c}{\\partial y} = - (\\frac{target}{y} + \\frac{1 - target}{1 - y} * -1) $$\n",
        "### $$ \\frac{\\partial c}{\\partial y} = -\\frac{target}{y} + \\frac{1 - target}{1 - y}  $$\n",
        "### $$ \\frac{\\partial c}{\\partial y} = \\frac{y - y*target - target + y*target}{y(1 - y)}  $$\n",
        "### <h2 style=\"color:red;\">$$ \\frac{\\partial c}{\\partial y} = \\frac{y - target}{y(y - 1)} $$</h2>\n",
        "### $$ \\frac{\\partial y}{\\partial z} = (1 + e^{-z})^{-1} $$\n",
        "### $$ \\frac{\\partial y}{\\partial z} = -(1 + e^{-z})^{-2} * - e^{-z} $$\n",
        "### $$ \\frac{\\partial y}{\\partial z} = \\frac{e^{-z}}{(1 + e^{-z})^{2}} $$\n",
        "### add in numerator 1 and -1\n",
        "### $$ \\frac{\\partial y}{\\partial z} = \\frac{1+e^{-z}-1}{(1 + e^{-z})^{2}} $$\n",
        "### divide it into two parts : $$ \\frac{\\partial y}{\\partial z} = \\frac{1}{1 + e^{-z}} * \\frac{1+e^{-z}-1}{1 + e^{-z}} $$\n",
        "### divide second part into two parts : $$ \\frac{\\partial y}{\\partial z} = \\frac{1}{1 + e^{-z}} * (\\frac{1+e^{-z}}{1 + e^{-z}} - \\frac{1}{1 + e^{-z}}) $$\n",
        "### we have $$ y = \\frac{1}{1+e^{-z}} $$\n",
        "### <h2 style=\"color:red;\">$$ \\frac{\\partial y}{\\partial z} = y(1 - y) $$</h2>\n",
        "### then : $$ \\frac{\\partial C}{\\partial w} = \\frac{y - target}{y(y - 1)} * x_i * y(1 - y) $$\n",
        "### <h1 style=\"color:red;\"> $$ \\frac{\\partial C}{\\partial w} = (y - target)*x $$ </h1>\n",
        "\n",
        "### for bais too: $$  \\frac{\\partial C}{\\partial b} = \\frac{\\partial z}{\\partial b} * \\frac{\\partial y}{\\partial z} * \\frac{\\partial c}{\\partial y} $$\n",
        "### $$ \\frac{\\partial z}{\\partial b} = 1 $$\n",
        "### <h1 style=\"color:red;\"> $$ \\frac{\\partial C}{\\partial b} = (y - target) $$ </h1>"
      ]
    },
    {
      "cell_type": "markdown",
      "metadata": {
        "id": "WBiR3f6xSIFX"
      },
      "source": [
        "# Data"
      ]
    },
    {
      "cell_type": "markdown",
      "metadata": {
        "id": "63dKQV3NSIFX"
      },
      "source": [
        "we will add one's in features x for bais"
      ]
    },
    {
      "cell_type": "code",
      "execution_count": 32,
      "metadata": {
        "id": "WSVIWlTWSIFY"
      },
      "outputs": [],
      "source": [
        "x = np.matrix([[1, 35, 78],\n",
        "               [1, 30, 44],\n",
        "               [1, 36, 73],\n",
        "               [1, 60, 86],\n",
        "               [1, 79, 75],\n",
        "               [1, 45, 56],\n",
        "               [1, 61, 96],\n",
        "               [1, 75, 46],\n",
        "               [1, 76, 87],\n",
        "               [1, 84, 43],\n",
        "               [1, 95, 38],\n",
        "               [1, 75, 31]])\n",
        "\n",
        "y = np.array([0, 0, 0, 1, 1, 0, 1, 1, 1, 1, 0, 0])\n"
      ]
    },
    {
      "cell_type": "code",
      "execution_count": 4,
      "metadata": {
        "colab": {
          "base_uri": "https://localhost:8080/"
        },
        "id": "NwjL437lSIFZ",
        "outputId": "942af2a9-a998-4741-fc92-fdf416bc375a"
      },
      "outputs": [
        {
          "data": {
            "text/plain": [
              "(12, 3)"
            ]
          },
          "execution_count": 4,
          "metadata": {},
          "output_type": "execute_result"
        }
      ],
      "source": [
        "x.shape"
      ]
    },
    {
      "cell_type": "code",
      "execution_count": 5,
      "metadata": {
        "colab": {
          "base_uri": "https://localhost:8080/"
        },
        "id": "ml3ClnLKXKv2",
        "outputId": "5da0d71d-be49-426e-8939-c418e694b7e0"
      },
      "outputs": [
        {
          "data": {
            "text/plain": [
              "matrix([[ 1, 35, 78],\n",
              "        [ 1, 30, 44],\n",
              "        [ 1, 36, 73],\n",
              "        [ 1, 60, 86],\n",
              "        [ 1, 79, 75],\n",
              "        [ 1, 45, 56],\n",
              "        [ 1, 61, 96],\n",
              "        [ 1, 75, 46],\n",
              "        [ 1, 76, 87],\n",
              "        [ 1, 84, 43],\n",
              "        [ 1, 95, 38],\n",
              "        [ 1, 75, 31]])"
            ]
          },
          "execution_count": 5,
          "metadata": {},
          "output_type": "execute_result"
        }
      ],
      "source": [
        "x"
      ]
    },
    {
      "cell_type": "code",
      "execution_count": 6,
      "metadata": {
        "id": "RCjdioxaSIFa"
      },
      "outputs": [],
      "source": [
        "def gradient_descent(Ws_old, alpha, iterates):\n",
        "    # assign weights new to contain zero's\n",
        "    Ws_new = np.matrix(np.zeros(Ws_old.shape))\n",
        "    # number of thetas\n",
        "    parameter = int(Ws_old.ravel().shape[1])\n",
        "\n",
        "    # loop in range number of iterates\n",
        "    for i in range(iterates):\n",
        "        # prediction\n",
        "        z = x * Ws_old.reshape(-1, 1)\n",
        "        predict = 1 / (1 + np.exp(-z))\n",
        "        # loop in range number of thetas\n",
        "        for j in range(parameter):\n",
        "\n",
        "            # new theta = old theta - alph * (sum of predict - real values)/number of rows\n",
        "            Ws_new[0, j] = Ws_old[0, j] - alpha * (np.sum(predict - y))\n",
        "\n",
        "        # put old thetas = new thetas\n",
        "        Ws_old = Ws_new\n",
        "    # return last values of weights\n",
        "    return Ws_old\n"
      ]
    },
    {
      "cell_type": "code",
      "execution_count": 52,
      "metadata": {
        "id": "rGht9CNISIFa"
      },
      "outputs": [],
      "source": [
        "# first theta is bais\n",
        "thetas = np.matrix([0.5, 1, 0.25])\n",
        "# call function\n",
        "weights = gradient_descent(thetas, 0.001, 1000000)"
      ]
    },
    {
      "cell_type": "code",
      "execution_count": 53,
      "metadata": {
        "colab": {
          "base_uri": "https://localhost:8080/"
        },
        "id": "coeSQW9BSIFb",
        "outputId": "81267099-2a77-4fd5-9997-267e050537a5"
      },
      "outputs": [
        {
          "data": {
            "text/plain": [
              "matrix([[-0.0939568,  0.4060432, -0.3439568]])"
            ]
          },
          "execution_count": 53,
          "metadata": {},
          "output_type": "execute_result"
        }
      ],
      "source": [
        "# see the weights\n",
        "weights"
      ]
    },
    {
      "cell_type": "code",
      "execution_count": 54,
      "metadata": {
        "id": "jeC9z97vZ1Kq"
      },
      "outputs": [],
      "source": [
        "def predict(theta, X):\n",
        "    probability = 1 / (1 + np.exp(-(x * weights.reshape(-1, 1))))\n",
        "    return [1 if x >= 0.5 else 0 for x in probability]"
      ]
    },
    {
      "cell_type": "code",
      "execution_count": 55,
      "metadata": {
        "colab": {
          "base_uri": "https://localhost:8080/"
        },
        "id": "2n8WesXYSIFb",
        "outputId": "0a2c9a40-a68c-46b3-f595-5a1fba3426c6"
      },
      "outputs": [
        {
          "data": {
            "text/plain": [
              "[0, 0, 0, 0, 1, 0, 0, 1, 1, 1, 1, 1]"
            ]
          },
          "execution_count": 55,
          "metadata": {},
          "output_type": "execute_result"
        }
      ],
      "source": [
        "# predict values\n",
        "prediction = predict(weights, x)\n",
        "prediction"
      ]
    },
    {
      "cell_type": "code",
      "execution_count": 57,
      "metadata": {
        "id": "3VKmUZjueJIG"
      },
      "outputs": [],
      "source": [
        "# Calculate accuracy percentage between two lists\n",
        "def accuracy_metric(actual, predicted):\n",
        "\tcorrect = 0\n",
        "\tfor i in range(len(actual)):\n",
        "\t\tif actual[i] == predicted[i]:\n",
        "\t\t\tcorrect += 1\n",
        "\treturn correct / float(len(actual)) * 100.0"
      ]
    },
    {
      "cell_type": "code",
      "execution_count": 58,
      "metadata": {},
      "outputs": [
        {
          "data": {
            "text/plain": [
              "66.66666666666666"
            ]
          },
          "execution_count": 58,
          "metadata": {},
          "output_type": "execute_result"
        }
      ],
      "source": [
        "accuracy_metric(y, prediction)"
      ]
    },
    {
      "cell_type": "code",
      "execution_count": null,
      "metadata": {},
      "outputs": [],
      "source": []
    }
  ],
  "metadata": {
    "accelerator": "TPU",
    "colab": {
      "collapsed_sections": [],
      "name": "binary_class.ipynb",
      "provenance": []
    },
    "interpreter": {
      "hash": "4ac99a89178b347d2ddb51d1067ae4321247bd0ad96f9f2868f86d66c397a5fc"
    },
    "kernelspec": {
      "display_name": "Python 3.10.2 64-bit",
      "language": "python",
      "name": "python3"
    },
    "language_info": {
      "codemirror_mode": {
        "name": "ipython",
        "version": 3
      },
      "file_extension": ".py",
      "mimetype": "text/x-python",
      "name": "python",
      "nbconvert_exporter": "python",
      "pygments_lexer": "ipython3",
      "version": "3.10.2"
    },
    "orig_nbformat": 4
  },
  "nbformat": 4,
  "nbformat_minor": 0
}
